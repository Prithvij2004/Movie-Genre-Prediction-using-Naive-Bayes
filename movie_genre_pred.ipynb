{
 "cells": [
  {
   "cell_type": "code",
   "execution_count": 1,
   "metadata": {},
   "outputs": [
    {
     "name": "stderr",
     "output_type": "stream",
     "text": [
      "UsageError: Line magic function `%matplotlib.inline` not found.\n"
     ]
    }
   ],
   "source": [
    "import pandas as pd\n",
    "import json\n",
    "import neattext as nt\n",
    "import neattext.functions as nfx\n",
    "import matplotlib_inline\n",
    "import re\n",
    "import nltk\n",
    "from sklearn.svm import LinearSVC\n",
    "from sklearn.feature_extraction.text import TfidfVectorizer\n",
    "from sklearn.naive_bayes import GaussianNB, MultinomialNB\n",
    "from sklearn.linear_model import LogisticRegression\n",
    "from sklearn.model_selection import train_test_split\n",
    "from sklearn.preprocessing import MultiLabelBinarizer\n",
    "from skmultilearn.problem_transform import BinaryRelevance\n",
    "from sklearn.multiclass import OneVsRestClassifier\n",
    "from sklearn.metrics import f1_score\n",
    "from nltk.corpus import stopwords\n",
    "from nltk.stem import WordNetLemmatizer\n",
    "\n",
    "%matplotlib.inline"
   ]
  },
  {
   "cell_type": "code",
   "execution_count": 2,
   "metadata": {},
   "outputs": [
    {
     "name": "stderr",
     "output_type": "stream",
     "text": [
      "/tmp/ipykernel_5233/4022294793.py:1: DtypeWarning: Columns (10) have mixed types. Specify dtype option on import or set low_memory=False.\n",
      "  file = pd.read_csv(\"movies_metadata.csv\")\n"
     ]
    }
   ],
   "source": [
    "\n",
    "file = pd.read_csv(\"movies_metadata.csv\")\n",
    "\n",
    "movies = pd.DataFrame(file[[\"imdb_id\", \"original_title\", \"overview\", \"genres\"]])\n",
    "\n",
    "new_genre = []\n",
    "for i in range(0, len(movies[\"genres\"])):\n",
    "    new_genre.append([])\n",
    "    for j in json.loads(movies[\"genres\"][i].replace(\"\\'\", \"\\\"\")):\n",
    "        new_genre[i].append(j[\"name\"])\n",
    "\n",
    "movies['genre_new'] = new_genre\n",
    "movies = pd.DataFrame(movies)"
   ]
  },
  {
   "cell_type": "code",
   "execution_count": 3,
   "metadata": {},
   "outputs": [],
   "source": [
    "movies_new = movies[~(movies['genre_new'].str.len() == 0)]"
   ]
  },
  {
   "cell_type": "code",
   "execution_count": 4,
   "metadata": {},
   "outputs": [],
   "source": [
    "def clean_txt(text):\n",
    "    text = re.sub(\"[^a-zA-Z]\", \" \", str(text))\n",
    "    text = text.lower()\n",
    "    return text\n"
   ]
  },
  {
   "cell_type": "code",
   "execution_count": 5,
   "metadata": {},
   "outputs": [
    {
     "name": "stderr",
     "output_type": "stream",
     "text": [
      "/tmp/ipykernel_5233/2082575070.py:1: SettingWithCopyWarning: \n",
      "A value is trying to be set on a copy of a slice from a DataFrame.\n",
      "Try using .loc[row_indexer,col_indexer] = value instead\n",
      "\n",
      "See the caveats in the documentation: https://pandas.pydata.org/pandas-docs/stable/user_guide/indexing.html#returning-a-view-versus-a-copy\n",
      "  movies_new[\"overview_clean\"] = movies_new[\"overview\"].apply(lambda x: clean_txt(x))\n",
      "/tmp/ipykernel_5233/2082575070.py:4: SettingWithCopyWarning: \n",
      "A value is trying to be set on a copy of a slice from a DataFrame.\n",
      "Try using .loc[row_indexer,col_indexer] = value instead\n",
      "\n",
      "See the caveats in the documentation: https://pandas.pydata.org/pandas-docs/stable/user_guide/indexing.html#returning-a-view-versus-a-copy\n",
      "  movies_new['overview_clean'] = movies_new[\"overview_clean\"].apply(nfx.remove_stopwords)\n"
     ]
    }
   ],
   "source": [
    "movies_new[\"overview_clean\"] = movies_new[\"overview\"].apply(lambda x: clean_txt(x))\n",
    "\n",
    "movies_new['overview_clean'].apply(lambda x: nt.TextExtractor(x).extract_stopwords())\n",
    "movies_new['overview_clean'] = movies_new[\"overview_clean\"].apply(nfx.remove_stopwords)\n"
   ]
  },
  {
   "cell_type": "code",
   "execution_count": 6,
   "metadata": {},
   "outputs": [
    {
     "name": "stderr",
     "output_type": "stream",
     "text": [
      "[nltk_data] Downloading package stopwords to\n",
      "[nltk_data]     /home/prithvij/nltk_data...\n",
      "[nltk_data]   Package stopwords is already up-to-date!\n",
      "[nltk_data] Downloading package punkt to /home/prithvij/nltk_data...\n",
      "[nltk_data]   Package punkt is already up-to-date!\n",
      "[nltk_data] Downloading package wordnet to /home/prithvij/nltk_data...\n",
      "[nltk_data]   Package wordnet is already up-to-date!\n",
      "[nltk_data] Downloading package omw-1.4 to /home/prithvij/nltk_data...\n",
      "[nltk_data]   Package omw-1.4 is already up-to-date!\n",
      "/tmp/ipykernel_5233/3393935177.py:21: SettingWithCopyWarning: \n",
      "A value is trying to be set on a copy of a slice from a DataFrame.\n",
      "Try using .loc[row_indexer,col_indexer] = value instead\n",
      "\n",
      "See the caveats in the documentation: https://pandas.pydata.org/pandas-docs/stable/user_guide/indexing.html#returning-a-view-versus-a-copy\n",
      "  movies_new[\"overview_clean\"] = movies_new[\"overview_clean\"].apply(lambda x: lemma(x))\n"
     ]
    }
   ],
   "source": [
    "nltk.download('stopwords')\n",
    "\n",
    "stop_words = set(stopwords.words(\"english\"))\n",
    "\n",
    "\n",
    "def remove_stopwords(text):\n",
    "    no_stopwords_text = [w for w in text.split() if not w in stop_words]\n",
    "    return ' '.join(no_stopwords_text)\n",
    "\n",
    "nltk.download('punkt')\n",
    "nltk.download('wordnet')\n",
    "nltk.download('omw-1.4')\n",
    "\n",
    "def lemma(text):\n",
    "    wordnet = WordNetLemmatizer()\n",
    "    tokenization = nltk.word_tokenize(text)\n",
    "    lemma_words = [wordnet.lemmatize(x) for x in tokenization]\n",
    "    return ' '.join(lemma_words)\n",
    "\n",
    "\n",
    "movies_new[\"overview_clean\"] = movies_new[\"overview_clean\"].apply(lambda x: lemma(x))"
   ]
  },
  {
   "cell_type": "code",
   "execution_count": 7,
   "metadata": {},
   "outputs": [
    {
     "data": {
      "text/html": [
       "<div>\n",
       "<style scoped>\n",
       "    .dataframe tbody tr th:only-of-type {\n",
       "        vertical-align: middle;\n",
       "    }\n",
       "\n",
       "    .dataframe tbody tr th {\n",
       "        vertical-align: top;\n",
       "    }\n",
       "\n",
       "    .dataframe thead th {\n",
       "        text-align: right;\n",
       "    }\n",
       "</style>\n",
       "<table border=\"1\" class=\"dataframe\">\n",
       "  <thead>\n",
       "    <tr style=\"text-align: right;\">\n",
       "      <th></th>\n",
       "      <th>imdb_id</th>\n",
       "      <th>original_title</th>\n",
       "      <th>overview</th>\n",
       "      <th>genres</th>\n",
       "      <th>genre_new</th>\n",
       "      <th>overview_clean</th>\n",
       "    </tr>\n",
       "  </thead>\n",
       "  <tbody>\n",
       "    <tr>\n",
       "      <th>0</th>\n",
       "      <td>tt0114709</td>\n",
       "      <td>Toy Story</td>\n",
       "      <td>Led by Woody, Andy's toys live happily in his ...</td>\n",
       "      <td>[{'id': 16, 'name': 'Animation'}, {'id': 35, '...</td>\n",
       "      <td>[Animation, Comedy, Family]</td>\n",
       "      <td>led woody andy toy live happily room andy birt...</td>\n",
       "    </tr>\n",
       "    <tr>\n",
       "      <th>1</th>\n",
       "      <td>tt0113497</td>\n",
       "      <td>Jumanji</td>\n",
       "      <td>When siblings Judy and Peter discover an encha...</td>\n",
       "      <td>[{'id': 12, 'name': 'Adventure'}, {'id': 14, '...</td>\n",
       "      <td>[Adventure, Fantasy, Family]</td>\n",
       "      <td>sibling judy peter discover enchanted board ga...</td>\n",
       "    </tr>\n",
       "    <tr>\n",
       "      <th>2</th>\n",
       "      <td>tt0113228</td>\n",
       "      <td>Grumpier Old Men</td>\n",
       "      <td>A family wedding reignites the ancient feud be...</td>\n",
       "      <td>[{'id': 10749, 'name': 'Romance'}, {'id': 35, ...</td>\n",
       "      <td>[Romance, Comedy]</td>\n",
       "      <td>family wedding reignites ancient feud door nei...</td>\n",
       "    </tr>\n",
       "    <tr>\n",
       "      <th>3</th>\n",
       "      <td>tt0114885</td>\n",
       "      <td>Waiting to Exhale</td>\n",
       "      <td>Cheated on, mistreated and stepped on, the wom...</td>\n",
       "      <td>[{'id': 35, 'name': 'Comedy'}, {'id': 18, 'nam...</td>\n",
       "      <td>[Comedy, Drama, Romance]</td>\n",
       "      <td>cheated mistreated stepped woman holding breat...</td>\n",
       "    </tr>\n",
       "    <tr>\n",
       "      <th>4</th>\n",
       "      <td>tt0113041</td>\n",
       "      <td>Father of the Bride Part II</td>\n",
       "      <td>Just when George Banks has recovered from his ...</td>\n",
       "      <td>[{'id': 35, 'name': 'Comedy'}]</td>\n",
       "      <td>[Comedy]</td>\n",
       "      <td>george bank recovered daughter wedding receive...</td>\n",
       "    </tr>\n",
       "  </tbody>\n",
       "</table>\n",
       "</div>"
      ],
      "text/plain": [
       "     imdb_id               original_title  \\\n",
       "0  tt0114709                    Toy Story   \n",
       "1  tt0113497                      Jumanji   \n",
       "2  tt0113228             Grumpier Old Men   \n",
       "3  tt0114885            Waiting to Exhale   \n",
       "4  tt0113041  Father of the Bride Part II   \n",
       "\n",
       "                                            overview  \\\n",
       "0  Led by Woody, Andy's toys live happily in his ...   \n",
       "1  When siblings Judy and Peter discover an encha...   \n",
       "2  A family wedding reignites the ancient feud be...   \n",
       "3  Cheated on, mistreated and stepped on, the wom...   \n",
       "4  Just when George Banks has recovered from his ...   \n",
       "\n",
       "                                              genres  \\\n",
       "0  [{'id': 16, 'name': 'Animation'}, {'id': 35, '...   \n",
       "1  [{'id': 12, 'name': 'Adventure'}, {'id': 14, '...   \n",
       "2  [{'id': 10749, 'name': 'Romance'}, {'id': 35, ...   \n",
       "3  [{'id': 35, 'name': 'Comedy'}, {'id': 18, 'nam...   \n",
       "4                     [{'id': 35, 'name': 'Comedy'}]   \n",
       "\n",
       "                      genre_new  \\\n",
       "0   [Animation, Comedy, Family]   \n",
       "1  [Adventure, Fantasy, Family]   \n",
       "2             [Romance, Comedy]   \n",
       "3      [Comedy, Drama, Romance]   \n",
       "4                      [Comedy]   \n",
       "\n",
       "                                      overview_clean  \n",
       "0  led woody andy toy live happily room andy birt...  \n",
       "1  sibling judy peter discover enchanted board ga...  \n",
       "2  family wedding reignites ancient feud door nei...  \n",
       "3  cheated mistreated stepped woman holding breat...  \n",
       "4  george bank recovered daughter wedding receive...  "
      ]
     },
     "execution_count": 7,
     "metadata": {},
     "output_type": "execute_result"
    }
   ],
   "source": [
    "movies_new.head()"
   ]
  },
  {
   "cell_type": "code",
   "execution_count": 17,
   "metadata": {},
   "outputs": [],
   "source": [
    "multilabel_binarizer = MultiLabelBinarizer()\n",
    "multilabel_binarizer.fit(movies_new[\"genre_new\"])\n",
    "\n",
    "y = multilabel_binarizer.transform(movies_new[\"genre_new\"])\n",
    "\n",
    "tfidf = TfidfVectorizer(max_features=10000)\n",
    "\n",
    "xtrain, xtest, ytrain, ytest = train_test_split(movies_new['overview_clean'], y, train_size=0.8)\n",
    "\n",
    "xtrain_tfidf = tfidf.fit_transform(xtrain)\n",
    "xtest_tfidf = tfidf.transform(xtest)\n",
    "\n",
    "clf = BinaryRelevance(MultinomialNB())\n",
    "\n",
    "clf.fit(xtrain_tfidf, ytrain)\n",
    "\n",
    "y_pred_prob = clf.predict_proba(xtest_tfidf)\n"
   ]
  },
  {
   "cell_type": "code",
   "execution_count": 18,
   "metadata": {},
   "outputs": [
    {
     "name": "stdout",
     "output_type": "stream",
     "text": [
      "0.5491325175606245\n"
     ]
    }
   ],
   "source": [
    "\n",
    "t = 0.2\n",
    "y_pred_new = (y_pred_prob >= t).astype(int)\n",
    "print(f1_score(ytest, y_pred_new, average=\"micro\"))"
   ]
  },
  {
   "cell_type": "code",
   "execution_count": 20,
   "metadata": {},
   "outputs": [
    {
     "name": "stdout",
     "output_type": "stream",
     "text": [
      "Movie:  21 nuits avec Pattie \n",
      "Predicted genre:  [('Comedy', 'Drama')]\n",
      "Actual genre:  ['Comedy'] \n",
      "\n",
      "Movie:  El buque maldito \n",
      "Predicted genre:  [()]\n",
      "Actual genre:  ['Horror'] \n",
      "\n",
      "Movie:  The Spiral Staircase \n",
      "Predicted genre:  [('Drama',)]\n",
      "Actual genre:  ['Crime', 'Drama', 'Horror', 'Mystery', 'Thriller'] \n",
      "\n",
      "Movie:  Act Like You Love Me \n",
      "Predicted genre:  [('Comedy', 'Drama')]\n",
      "Actual genre:  ['Comedy', 'Romance'] \n",
      "\n",
      "Movie:  Un amour de sorcière \n",
      "Predicted genre:  [()]\n",
      "Actual genre:  ['Adventure', 'Comedy', 'Fantasy', 'Romance'] \n",
      "\n"
     ]
    }
   ],
   "source": [
    "def infer_tags(q):\n",
    "    q = clean_txt(q)\n",
    "    q = remove_stopwords(q)\n",
    "    q = lemma(q)\n",
    "    q_vec = tfidf.transform([q])\n",
    "    q_pred = clf.predict(q_vec)\n",
    "    return multilabel_binarizer.inverse_transform(q_pred)\n",
    "\n",
    "\n",
    "for i in range(5):\n",
    "    k = xtest.sample(1).index[0]\n",
    "    print(\"Movie: \", movies_new['original_title'][k], \"\\nPredicted genre: \", infer_tags(xtest[k])), print(\n",
    "        \"Actual genre: \", movies_new['genre_new'][k], \"\\n\")\n"
   ]
  },
  {
   "cell_type": "code",
   "execution_count": null,
   "metadata": {},
   "outputs": [],
   "source": []
  }
 ],
 "metadata": {
  "kernelspec": {
   "display_name": "Python 3.8.10 64-bit",
   "language": "python",
   "name": "python3"
  },
  "language_info": {
   "codemirror_mode": {
    "name": "ipython",
    "version": 3
   },
   "file_extension": ".py",
   "mimetype": "text/x-python",
   "name": "python",
   "nbconvert_exporter": "python",
   "pygments_lexer": "ipython3",
   "version": "3.8.10"
  },
  "orig_nbformat": 4,
  "vscode": {
   "interpreter": {
    "hash": "31f2aee4e71d21fbe5cf8b01ff0e069b9275f58929596ceb00d14d90e3e16cd6"
   }
  }
 },
 "nbformat": 4,
 "nbformat_minor": 2
}
